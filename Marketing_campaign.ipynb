{
  "cells": [
    {
      "cell_type": "code",
      "execution_count": null,
      "metadata": {
        "id": "SVNskl0geWt0"
      },
      "outputs": [],
      "source": [
        "# Importing basic libraries:\n",
        "\n",
        "import pandas as pd\n",
        "import numpy as np\n",
        "\n",
        "import matplotlib.pyplot as plt\n",
        "import seaborn as sns"
      ]
    },
    {
      "cell_type": "code",
      "execution_count": null,
      "metadata": {
        "id": "r66IlXhVqtmx"
      },
      "outputs": [],
      "source": [
        "import warnings\n",
        "warnings.filterwarnings(\"ignore\", category=UserWarning, module=\"sklearn.cluster._kmeans\")"
      ]
    },
    {
      "cell_type": "code",
      "execution_count": null,
      "metadata": {
        "colab": {
          "base_uri": "https://localhost:8080/"
        },
        "id": "K8gIBZvaUqAL",
        "outputId": "e08db950-2821-4d63-e469-b30f87ed770a"
      },
      "outputs": [
        {
          "name": "stdout",
          "output_type": "stream",
          "text": [
            "fatal: destination path 'Predict-Customer-Personality-to-boost-marketing-campaign-by-using-Machine-Learning' already exists and is not an empty directory.\n"
          ]
        }
      ],
    },
    {
      "cell_type": "code",
      "execution_count": null,
      "metadata": {
        "id": "kC4vifJbYX4I"
      },
      "outputs": [],
      "source": [
        "# Loading the data\n",
        "\n",
        "import pandas as pd\n",
        "data = pd.read_csv('/content/Predict-Customer-Personality-to-boost-marketing-campaign-by-using-Machine-Learning/marketing_campaign_data.csv')"
      ]
    },
    {
      "cell_type": "code",
      "execution_count": null,
      "metadata": {
        "colab": {
          "base_uri": "https://localhost:8080/",
          "height": 317
        },
        "id": "gtirOf0fYjwi",
        "outputId": "ea8e448e-1e4c-4219-dd00-9edd4f3e3ed0"
      },
      "outputs": [
        {
          "data": {
            "text/html": [
              "\n",
              "\n",
              "  <div id=\"df-05c2b4d3-91e5-4efb-be19-a459d090fe48\">\n",
              "    <div class=\"colab-df-container\">\n",
              "      <div>\n",
              "<style scoped>\n",
              "    .dataframe tbody tr th:only-of-type {\n",
              "        vertical-align: middle;\n",
              "    }\n",
              "\n",
              "    .dataframe tbody tr th {\n",
              "        vertical-align: top;\n",
              "    }\n",
              "\n",
              "    .dataframe thead th {\n",
              "        text-align: right;\n",
              "    }\n",
              "</style>\n",
              "<table border=\"1\" class=\"dataframe\">\n",
              "  <thead>\n",
              "    <tr style=\"text-align: right;\">\n",
              "      <th></th>\n",
              "      <th>Unnamed: 0</th>\n",
              "      <th>ID</th>\n",
              "      <th>Year_Birth</th>\n",
              "      <th>Education</th>\n",
              "      <th>Marital_Status</th>\n",
              "      <th>Income</th>\n",
              "      <th>Kidhome</th>\n",
              "      <th>Teenhome</th>\n",
              "      <th>Dt_Customer</th>\n",
              "      <th>Recency</th>\n",
              "      <th>...</th>\n",
              "      <th>NumWebVisitsMonth</th>\n",
              "      <th>AcceptedCmp3</th>\n",
              "      <th>AcceptedCmp4</th>\n",
              "      <th>AcceptedCmp5</th>\n",
              "      <th>AcceptedCmp1</th>\n",
              "      <th>AcceptedCmp2</th>\n",
              "      <th>Complain</th>\n",
              "      <th>Z_CostContact</th>\n",
              "      <th>Z_Revenue</th>\n",
              "      <th>Response</th>\n",
              "    </tr>\n",
              "  </thead>\n",
              "  <tbody>\n",
              "    <tr>\n",
              "      <th>0</th>\n",
              "      <td>0</td>\n",
              "      <td>5524</td>\n",
              "      <td>1957</td>\n",
              "      <td>S1</td>\n",
              "      <td>Lajang</td>\n",
              "      <td>58138000.0</td>\n",
              "      <td>0</td>\n",
              "      <td>0</td>\n",
              "      <td>04-09-2012</td>\n",
              "      <td>58</td>\n",
              "      <td>...</td>\n",
              "      <td>7</td>\n",
              "      <td>0</td>\n",
              "      <td>0</td>\n",
              "      <td>0</td>\n",
              "      <td>0</td>\n",
              "      <td>0</td>\n",
              "      <td>0</td>\n",
              "      <td>3</td>\n",
              "      <td>11</td>\n",
              "      <td>1</td>\n",
              "    </tr>\n",
              "    <tr>\n",
              "      <th>1</th>\n",
              "      <td>1</td>\n",
              "      <td>2174</td>\n",
              "      <td>1954</td>\n",
              "      <td>S1</td>\n",
              "      <td>Lajang</td>\n",
              "      <td>46344000.0</td>\n",
              "      <td>1</td>\n",
              "      <td>1</td>\n",
              "      <td>08-03-2014</td>\n",
              "      <td>38</td>\n",
              "      <td>...</td>\n",
              "      <td>5</td>\n",
              "      <td>0</td>\n",
              "      <td>0</td>\n",
              "      <td>0</td>\n",
              "      <td>0</td>\n",
              "      <td>0</td>\n",
              "      <td>0</td>\n",
              "      <td>3</td>\n",
              "      <td>11</td>\n",
              "      <td>0</td>\n",
              "    </tr>\n",
              "    <tr>\n",
              "      <th>2</th>\n",
              "      <td>2</td>\n",
              "      <td>4141</td>\n",
              "      <td>1965</td>\n",
              "      <td>S1</td>\n",
              "      <td>Bertunangan</td>\n",
              "      <td>71613000.0</td>\n",
              "      <td>0</td>\n",
              "      <td>0</td>\n",
              "      <td>21-08-2013</td>\n",
              "      <td>26</td>\n",
              "      <td>...</td>\n",
              "      <td>4</td>\n",
              "      <td>0</td>\n",
              "      <td>0</td>\n",
              "      <td>0</td>\n",
              "      <td>0</td>\n",
              "      <td>0</td>\n",
              "      <td>0</td>\n",
              "      <td>3</td>\n",
              "      <td>11</td>\n",
              "      <td>0</td>\n",
              "    </tr>\n",
              "    <tr>\n",
              "      <th>3</th>\n",
              "      <td>3</td>\n",
              "      <td>6182</td>\n",
              "      <td>1984</td>\n",
              "      <td>S1</td>\n",
              "      <td>Bertunangan</td>\n",
              "      <td>26646000.0</td>\n",
              "      <td>1</td>\n",
              "      <td>0</td>\n",
              "      <td>10-02-2014</td>\n",
              "      <td>26</td>\n",
              "      <td>...</td>\n",
              "      <td>6</td>\n",
              "      <td>0</td>\n",
              "      <td>0</td>\n",
              "      <td>0</td>\n",
              "      <td>0</td>\n",
              "      <td>0</td>\n",
              "      <td>0</td>\n",
              "      <td>3</td>\n",
              "      <td>11</td>\n",
              "      <td>0</td>\n",
              "    </tr>\n",
              "    <tr>\n",
              "      <th>4</th>\n",
              "      <td>4</td>\n",
              "      <td>5324</td>\n",
              "      <td>1981</td>\n",
              "      <td>S3</td>\n",
              "      <td>Menikah</td>\n",
              "      <td>58293000.0</td>\n",
              "      <td>1</td>\n",
              "      <td>0</td>\n",
              "      <td>19-01-2014</td>\n",
              "      <td>94</td>\n",
              "      <td>...</td>\n",
              "      <td>5</td>\n",
              "      <td>0</td>\n",
              "      <td>0</td>\n",
              "      <td>0</td>\n",
              "      <td>0</td>\n",
              "      <td>0</td>\n",
              "      <td>0</td>\n",
              "      <td>3</td>\n",
              "      <td>11</td>\n",
              "      <td>0</td>\n",
              "    </tr>\n",
              "  </tbody>\n",
              "</table>\n",
              "<p>5 rows × 30 columns</p>\n",
              "</div>\n",
              "      <button class=\"colab-df-convert\" onclick=\"convertToInteractive('df-05c2b4d3-91e5-4efb-be19-a459d090fe48')\"\n",
              "              title=\"Convert this dataframe to an interactive table.\"\n",
              "              style=\"display:none;\">\n",
              "\n",
              "  <svg xmlns=\"http://www.w3.org/2000/svg\" height=\"24px\"viewBox=\"0 0 24 24\"\n",
              "       width=\"24px\">\n",
              "    <path d=\"M0 0h24v24H0V0z\" fill=\"none\"/>\n",
              "    <path d=\"M18.56 5.44l.94 2.06.94-2.06 2.06-.94-2.06-.94-.94-2.06-.94 2.06-2.06.94zm-11 1L8.5 8.5l.94-2.06 2.06-.94-2.06-.94L8.5 2.5l-.94 2.06-2.06.94zm10 10l.94 2.06.94-2.06 2.06-.94-2.06-.94-.94-2.06-.94 2.06-2.06.94z\"/><path d=\"M17.41 7.96l-1.37-1.37c-.4-.4-.92-.59-1.43-.59-.52 0-1.04.2-1.43.59L10.3 9.45l-7.72 7.72c-.78.78-.78 2.05 0 2.83L4 21.41c.39.39.9.59 1.41.59.51 0 1.02-.2 1.41-.59l7.78-7.78 2.81-2.81c.8-.78.8-2.07 0-2.86zM5.41 20L4 18.59l7.72-7.72 1.47 1.35L5.41 20z\"/>\n",
              "  </svg>\n",
              "      </button>\n",
              "\n",
              "\n",
              "\n",
              "    <div id=\"df-5044ea2e-7be0-46ad-9fc1-52a93e626c4b\">\n",
              "      <button class=\"colab-df-quickchart\" onclick=\"quickchart('df-5044ea2e-7be0-46ad-9fc1-52a93e626c4b')\"\n",
              "              title=\"Suggest charts.\"\n",
              "              style=\"display:none;\">\n",
              "\n",
              "<svg xmlns=\"http://www.w3.org/2000/svg\" height=\"24px\"viewBox=\"0 0 24 24\"\n",
              "     width=\"24px\">\n",
              "    <g>\n",
              "        <path d=\"M19 3H5c-1.1 0-2 .9-2 2v14c0 1.1.9 2 2 2h14c1.1 0 2-.9 2-2V5c0-1.1-.9-2-2-2zM9 17H7v-7h2v7zm4 0h-2V7h2v10zm4 0h-2v-4h2v4z\"/>\n",
              "    </g>\n",
              "</svg>\n",
              "      </button>\n",
              "    </div>\n",
              "\n",
              "<style>\n",
              "  .colab-df-quickchart {\n",
              "    background-color: #E8F0FE;\n",
              "    border: none;\n",
              "    border-radius: 50%;\n",
              "    cursor: pointer;\n",
              "    display: none;\n",
              "    fill: #1967D2;\n",
              "    height: 32px;\n",
              "    padding: 0 0 0 0;\n",
              "    width: 32px;\n",
              "  }\n",
              "\n",
              "  .colab-df-quickchart:hover {\n",
              "    background-color: #E2EBFA;\n",
              "    box-shadow: 0px 1px 2px rgba(60, 64, 67, 0.3), 0px 1px 3px 1px rgba(60, 64, 67, 0.15);\n",
              "    fill: #174EA6;\n",
              "  }\n",
              "\n",
              "  [theme=dark] .colab-df-quickchart {\n",
              "    background-color: #3B4455;\n",
              "    fill: #D2E3FC;\n",
              "  }\n",
              "\n",
              "  [theme=dark] .colab-df-quickchart:hover {\n",
              "    background-color: #434B5C;\n",
              "    box-shadow: 0px 1px 3px 1px rgba(0, 0, 0, 0.15);\n",
              "    filter: drop-shadow(0px 1px 2px rgba(0, 0, 0, 0.3));\n",
              "    fill: #FFFFFF;\n",
              "  }\n",
              "</style>\n",
              "\n",
              "    <script>\n",
              "      async function quickchart(key) {\n",
              "        const containerElement = document.querySelector('#' + key);\n",
              "        const charts = await google.colab.kernel.invokeFunction(\n",
              "            'suggestCharts', [key], {});\n",
              "      }\n",
              "    </script>\n",
              "\n",
              "      <script>\n",
              "\n",
              "function displayQuickchartButton(domScope) {\n",
              "  let quickchartButtonEl =\n",
              "    domScope.querySelector('#df-5044ea2e-7be0-46ad-9fc1-52a93e626c4b button.colab-df-quickchart');\n",
              "  quickchartButtonEl.style.display =\n",
              "    google.colab.kernel.accessAllowed ? 'block' : 'none';\n",
              "}\n",
              "\n",
              "        displayQuickchartButton(document);\n",
              "      </script>\n",
              "      <style>\n",
              "    .colab-df-container {\n",
              "      display:flex;\n",
              "      flex-wrap:wrap;\n",
              "      gap: 12px;\n",
              "    }\n",
              "\n",
              "    .colab-df-convert {\n",
              "      background-color: #E8F0FE;\n",
              "      border: none;\n",
              "      border-radius: 50%;\n",
              "      cursor: pointer;\n",
              "      display: none;\n",
              "      fill: #1967D2;\n",
              "      height: 32px;\n",
              "      padding: 0 0 0 0;\n",
              "      width: 32px;\n",
              "    }\n",
              "\n",
              "    .colab-df-convert:hover {\n",
              "      background-color: #E2EBFA;\n",
              "      box-shadow: 0px 1px 2px rgba(60, 64, 67, 0.3), 0px 1px 3px 1px rgba(60, 64, 67, 0.15);\n",
              "      fill: #174EA6;\n",
              "    }\n",
              "\n",
              "    [theme=dark] .colab-df-convert {\n",
              "      background-color: #3B4455;\n",
              "      fill: #D2E3FC;\n",
              "    }\n",
              "\n",
              "    [theme=dark] .colab-df-convert:hover {\n",
              "      background-color: #434B5C;\n",
              "      box-shadow: 0px 1px 3px 1px rgba(0, 0, 0, 0.15);\n",
              "      filter: drop-shadow(0px 1px 2px rgba(0, 0, 0, 0.3));\n",
              "      fill: #FFFFFF;\n",
              "    }\n",
              "  </style>\n",
              "\n",
              "      <script>\n",
              "        const buttonEl =\n",
              "          document.querySelector('#df-05c2b4d3-91e5-4efb-be19-a459d090fe48 button.colab-df-convert');\n",
              "        buttonEl.style.display =\n",
              "          google.colab.kernel.accessAllowed ? 'block' : 'none';\n",
              "\n",
              "        async function convertToInteractive(key) {\n",
              "          const element = document.querySelector('#df-05c2b4d3-91e5-4efb-be19-a459d090fe48');\n",
              "          const dataTable =\n",
              "            await google.colab.kernel.invokeFunction('convertToInteractive',\n",
              "                                                     [key], {});\n",
              "          if (!dataTable) return;\n",
              "\n",
              "          const docLinkHtml = 'Like what you see? Visit the ' +\n",
              "            '<a target=\"_blank\" href=https://colab.research.google.com/notebooks/data_table.ipynb>data table notebook</a>'\n",
              "            + ' to learn more about interactive tables.';\n",
              "          element.innerHTML = '';\n",
              "          dataTable['output_type'] = 'display_data';\n",
              "          await google.colab.output.renderOutput(dataTable, element);\n",
              "          const docLink = document.createElement('div');\n",
              "          docLink.innerHTML = docLinkHtml;\n",
              "          element.appendChild(docLink);\n",
              "        }\n",
              "      </script>\n",
              "    </div>\n",
              "  </div>\n"
            ],
            "text/plain": [
              "   Unnamed: 0    ID  Year_Birth Education Marital_Status      Income  Kidhome  \\\n",
              "0           0  5524        1957        S1         Lajang  58138000.0        0   \n",
              "1           1  2174        1954        S1         Lajang  46344000.0        1   \n",
              "2           2  4141        1965        S1    Bertunangan  71613000.0        0   \n",
              "3           3  6182        1984        S1    Bertunangan  26646000.0        1   \n",
              "4           4  5324        1981        S3        Menikah  58293000.0        1   \n",
              "\n",
              "   Teenhome Dt_Customer  Recency  ...  NumWebVisitsMonth  AcceptedCmp3  \\\n",
              "0         0  04-09-2012       58  ...                  7             0   \n",
              "1         1  08-03-2014       38  ...                  5             0   \n",
              "2         0  21-08-2013       26  ...                  4             0   \n",
              "3         0  10-02-2014       26  ...                  6             0   \n",
              "4         0  19-01-2014       94  ...                  5             0   \n",
              "\n",
              "   AcceptedCmp4  AcceptedCmp5  AcceptedCmp1  AcceptedCmp2  Complain  \\\n",
              "0             0             0             0             0         0   \n",
              "1             0             0             0             0         0   \n",
              "2             0             0             0             0         0   \n",
              "3             0             0             0             0         0   \n",
              "4             0             0             0             0         0   \n",
              "\n",
              "   Z_CostContact  Z_Revenue  Response  \n",
              "0              3         11         1  \n",
              "1              3         11         0  \n",
              "2              3         11         0  \n",
              "3              3         11         0  \n",
              "4              3         11         0  \n",
              "\n",
              "[5 rows x 30 columns]"
            ]
          },
          "execution_count": 38,
          "metadata": {},
          "output_type": "execute_result"
        }
      ],
      "source": [
        "# Viewing first five rows , to check how the data looks like:\n",
        "\n",
        "data.head()"
      ]
    },
    {
      "cell_type": "code",
      "execution_count": null,
      "metadata": {
        "id": "5mc9r4AcdvSp"
      },
      "outputs": [],
      "source": [
        "# Removing indexing as a column , and using it as index :\n",
        "\n",
        "data = pd.read_csv('/content/Predict-Customer-Personality-to-boost-marketing-campaign-by-using-Machine-Learning/marketing_campaign_data.csv', index_col = [0])"
      ]
    },
    {
      "cell_type": "code",
      "execution_count": null,
      "metadata": {
        "colab": {
          "base_uri": "https://localhost:8080/"
        },
        "id": "rk2003RWcuQG",
        "outputId": "13bfe218-5ab9-4c96-c258-2b6a5cd6611b"
      },
      "outputs": [
        {
          "data": {
            "text/plain": [
              "(2240, 29)"
            ]
          },
          "execution_count": 40,
          "metadata": {},
          "output_type": "execute_result"
        }
      ],
      "source": [
        "# Checking shape of data\n",
        "\n",
        "data.shape"
      ]
    },
    {
      "cell_type": "code",
      "execution_count": null,
      "metadata": {
        "colab": {
          "base_uri": "https://localhost:8080/"
        },
        "id": "Cp10gw70efrZ",
        "outputId": "38cf82ee-889b-4f35-b2be-9bf279aaddc8"
      },
      "outputs": [
        {
          "name": "stdout",
          "output_type": "stream",
          "text": [
            "<class 'pandas.core.frame.DataFrame'>\n",
            "Int64Index: 2240 entries, 0 to 2239\n",
            "Data columns (total 29 columns):\n",
            " #   Column               Non-Null Count  Dtype  \n",
            "---  ------               --------------  -----  \n",
            " 0   ID                   2240 non-null   int64  \n",
            " 1   Year_Birth           2240 non-null   int64  \n",
            " 2   Education            2240 non-null   object \n",
            " 3   Marital_Status       2240 non-null   object \n",
            " 4   Income               2216 non-null   float64\n",
            " 5   Kidhome              2240 non-null   int64  \n",
            " 6   Teenhome             2240 non-null   int64  \n",
            " 7   Dt_Customer          2240 non-null   object \n",
            " 8   Recency              2240 non-null   int64  \n",
            " 9   MntCoke              2240 non-null   int64  \n",
            " 10  MntFruits            2240 non-null   int64  \n",
            " 11  MntMeatProducts      2240 non-null   int64  \n",
            " 12  MntFishProducts      2240 non-null   int64  \n",
            " 13  MntSweetProducts     2240 non-null   int64  \n",
            " 14  MntGoldProds         2240 non-null   int64  \n",
            " 15  NumDealsPurchases    2240 non-null   int64  \n",
            " 16  NumWebPurchases      2240 non-null   int64  \n",
            " 17  NumCatalogPurchases  2240 non-null   int64  \n",
            " 18  NumStorePurchases    2240 non-null   int64  \n",
            " 19  NumWebVisitsMonth    2240 non-null   int64  \n",
            " 20  AcceptedCmp3         2240 non-null   int64  \n",
            " 21  AcceptedCmp4         2240 non-null   int64  \n",
            " 22  AcceptedCmp5         2240 non-null   int64  \n",
            " 23  AcceptedCmp1         2240 non-null   int64  \n",
            " 24  AcceptedCmp2         2240 non-null   int64  \n",
            " 25  Complain             2240 non-null   int64  \n",
            " 26  Z_CostContact        2240 non-null   int64  \n",
            " 27  Z_Revenue            2240 non-null   int64  \n",
            " 28  Response             2240 non-null   int64  \n",
            "dtypes: float64(1), int64(25), object(3)\n",
            "memory usage: 525.0+ KB\n"
          ]
        }
      ],
      "source": [
        "# Checking data_type and no. of null values for each feature in the dataset:\n",
        "\n",
        "data.info()"
      ]
    },
    {
      "cell_type": "code",
      "execution_count": null,
      "metadata": {
        "colab": {
          "base_uri": "https://localhost:8080/"
        },
        "id": "ezhNRlrSfZXa",
        "outputId": "80f21b67-4734-4a02-e7b1-4de96bfc9e5d"
      },
      "outputs": [
        {
          "name": "stdout",
          "output_type": "stream",
          "text": [
            "ID                      0\n",
            "Year_Birth              0\n",
            "Education               0\n",
            "Marital_Status          0\n",
            "Income                 24\n",
            "Kidhome                 0\n",
            "Teenhome                0\n",
            "Dt_Customer             0\n",
            "Recency                 0\n",
            "MntCoke                 0\n",
            "MntFruits               0\n",
            "MntMeatProducts         0\n",
            "MntFishProducts         0\n",
            "MntSweetProducts        0\n",
            "MntGoldProds            0\n",
            "NumDealsPurchases       0\n",
            "NumWebPurchases         0\n",
            "NumCatalogPurchases     0\n",
            "NumStorePurchases       0\n",
            "NumWebVisitsMonth       0\n",
            "AcceptedCmp3            0\n",
            "AcceptedCmp4            0\n",
            "AcceptedCmp5            0\n",
            "AcceptedCmp1            0\n",
            "AcceptedCmp2            0\n",
            "Complain                0\n",
            "Z_CostContact           0\n",
            "Z_Revenue               0\n",
            "Response                0\n",
            "dtype: int64\n"
          ]
        }
      ],
      "source": [
        "count_nd = data.isnull().sum()\n",
        "print(count_nd)"
      ]
    },
    {
      "cell_type": "code",
      "execution_count": null,
      "metadata": {
        "id": "fQfh4fdHf1dm"
      },
      "outputs": [],
      "source": [
        "data['Income'] = data['Income'].fillna(data['Income'].median())"
      ]
    },
    {
      "cell_type": "code",
      "execution_count": null,
      "metadata": {
        "colab": {
          "base_uri": "https://localhost:8080/"
        },
        "id": "PYmUu32rgCsG",
        "outputId": "82d80097-8966-4793-c289-916758705c4a"
      },
      "outputs": [
        {
          "name": "stderr",
          "output_type": "stream",
          "text": [
            "<ipython-input-44-c1db19e08176>:1: UserWarning: Parsing dates in DD/MM/YYYY format when dayfirst=False (the default) was specified. This may lead to inconsistently parsed dates! Specify a format to ensure consistent parsing.\n",
            "  data['Dt_Customer'] = pd.to_datetime(data['Dt_Customer'])\n"
          ]
        }
      ],
      "source": [
        "data['Dt_Customer'] = pd.to_datetime(data['Dt_Customer'])"
      ]
    },
    {
      "cell_type": "markdown",
      "metadata": {
        "id": "3zBeI5ARgVNe"
      },
      "source": [
        "# Feature Engineering"
      ]
    },
    {
      "cell_type": "code",
      "execution_count": null,
      "metadata": {
        "id": "CK4jPvDNgUlc"
      },
      "outputs": [],
      "source": [
        "# Age of customer\n",
        "\n",
        "time = datetime.now().year\n",
        "time\n",
        "\n",
        "data['age'] = time - data['Year_Birth']\n"
      ]
    },
    {
      "cell_type": "code",
      "execution_count": null,
      "metadata": {
        "id": "Q4RZyNWSgTvt"
      },
      "outputs": [],
      "source": [
        "# Total Children\n",
        "\n",
        "data['total_children'] = data['Kidhome'] + data['Teenhome']"
      ]
    },
    {
      "cell_type": "code",
      "execution_count": null,
      "metadata": {
        "id": "dxh3qhImgTxe"
      },
      "outputs": [],
      "source": [
        "# Group of Age\n",
        "\n",
        "goa = []\n",
        "\n",
        "for i in data['age']:\n",
        "    if i < 35 :\n",
        "        grup = 'Young Adult'\n",
        "    elif i < 65 :\n",
        "        grup = 'Adult'\n",
        "    else:\n",
        "        grup = 'Senior Adult'\n",
        "    goa.append(grup)\n",
        "\n",
        "data['grup_age'] = goa"
      ]
    },
    {
      "cell_type": "code",
      "execution_count": null,
      "metadata": {
        "id": "wyq8J0bTgT2f"
      },
      "outputs": [],
      "source": [
        "# Total of accepted campaign\n",
        "\n",
        "acc_cmp = [col for col in data.columns if 'AcceptedCmp' in col]\n",
        "\n",
        "data['Total_accepted_campaign'] = data[acc_cmp].sum(axis=1)"
      ]
    },
    {
      "cell_type": "code",
      "execution_count": null,
      "metadata": {
        "id": "d_rrTr81gT4f"
      },
      "outputs": [],
      "source": [
        "# Total of Purchases\n",
        "\n",
        "data['Total_Purchases'] = ( data['NumDealsPurchases'] + data['NumWebPurchases']\n",
        "                        + data['NumCatalogPurchases'] + data['NumStorePurchases'])"
      ]
    },
    {
      "cell_type": "code",
      "execution_count": null,
      "metadata": {
        "id": "3ZOghWhFgT8l"
      },
      "outputs": [],
      "source": [
        "# Total amount\n",
        "\n",
        "data['Total_amount'] = data[['MntCoke','MntFruits','MntMeatProducts','MntFishProducts','MntSweetProducts','MntGoldProds']].sum(axis=1)\n"
      ]
    },
    {
      "cell_type": "code",
      "execution_count": null,
      "metadata": {
        "id": "lqb6uYyNiAL9"
      },
      "outputs": [],
      "source": [
        "# Conversion Rate\n",
        "\n",
        "data['conversion_rate'] = np.round(data['Total_Purchases'] / data['NumWebVisitsMonth'], 2)"
      ]
    },
    {
      "cell_type": "code",
      "execution_count": null,
      "metadata": {
        "id": "HyIRZCtgiANr"
      },
      "outputs": [],
      "source": [
        "# Total of days/years joined\n",
        "\n",
        "data['Total_Days_Joined'] = (datetime.now() - data['Dt_Customer'])\n",
        "data['Total_Days_Joined'] = data['Total_Days_Joined'].dt.days\n",
        "\n",
        "data['Year_Joined'] = np.round(data['Total_Days_Joined'] / 365 , 0)\n",
        "data['Year_Joined'] = data['Year_Joined'].astype(int)"
      ]
    },
    {
      "cell_type": "markdown",
      "metadata": {
        "id": "QJdEADNYiZRJ"
      },
      "source": [
        "**Drop Unnecessary Data**"
      ]
    },
    {
      "cell_type": "code",
      "execution_count": null,
      "metadata": {
        "id": "TjbefuQZiTlN"
      },
      "outputs": [],
      "source": [
        "num_cmp = [col for col in data.columns if 'Num' in col]\n",
        "mnt_cmp = [col for col in data.columns if 'Mnt' in col]\n",
        "\n",
        "col_to_drop = num_cmp + mnt_cmp + acc_cmp\n",
        "\n",
        "data.drop(columns = col_to_drop, inplace=True)\n",
        "data.drop(columns = ['Year_Birth', 'ID', 'Kidhome', 'Teenhome'], inplace=True)"
      ]
    },
    {
      "cell_type": "code",
      "execution_count": null,
      "metadata": {
        "id": "D7uFaDMJppHy"
      },
      "outputs": [],
      "source": []
    },
    {
      "cell_type": "code",
      "execution_count": null,
      "metadata": {
        "id": "_RO1g4RZcpTR"
      },
      "outputs": [],
      "source": [
        "# Importing necessary libraries, after seeing the data\n",
        "\n",
        "from scipy.stats import chi2_contingency\n",
        "from scipy import stats\n",
        "\n",
        "from datetime import datetime\n",
        "\n",
        "from sklearn.preprocessing import Normalizer\n",
        "from sklearn.cluster import KMeans\n",
        "from sklearn.decomposition import PCA\n",
        "from sklearn.metrics import silhouette_score"
      ]
    },
    {
      "cell_type": "markdown",
      "metadata": {
        "id": "hJOJ2RoPi5Ry"
      },
      "source": [
        "# Looking for a relationship between conversion rate and the types of users who are potentially more likely to respond to a campaign."
      ]
    },
    {
      "cell_type": "code",
      "execution_count": null,
      "metadata": {
        "id": "rCDkfFe6fCet"
      },
      "outputs": [],
      "source": [
        "def get_nonself_correlation(data,self_name):\n",
        "    temp = data.select_dtypes(exclude=object).corr().abs()\n",
        "    temp = temp.loc[temp.index!=self_name,temp.columns==self_name]\n",
        "    temp = temp.unstack().reset_index()\n",
        "    temp.columns = ['corr_matrix', 'database', 'correlation']\n",
        "    return temp"
      ]
    },
    {
      "cell_type": "code",
      "execution_count": null,
      "metadata": {
        "colab": {
          "base_uri": "https://localhost:8080/",
          "height": 512
        },
        "id": "CD8rEL1UjMvu",
        "outputId": "678e89a5-4088-4df2-aaa6-a8f759cf8078"
      },
      "outputs": [
        {
          "name": "stderr",
          "output_type": "stream",
          "text": [
            "<ipython-input-55-810e921fc931>:2: FutureWarning: The default value of numeric_only in DataFrame.corr is deprecated. In a future version, it will default to False. Select only valid columns or specify the value of numeric_only to silence this warning.\n",
            "  temp = data.select_dtypes(exclude=object).corr().abs()\n"
          ]
        },
        {
          "data": {
            "text/html": [
              "\n",
              "\n",
              "  <div id=\"df-666462fc-9879-48d2-8ca6-c92f3a67d51c\">\n",
              "    <div class=\"colab-df-container\">\n",
              "      <div>\n",
              "<style scoped>\n",
              "    .dataframe tbody tr th:only-of-type {\n",
              "        vertical-align: middle;\n",
              "    }\n",
              "\n",
              "    .dataframe tbody tr th {\n",
              "        vertical-align: top;\n",
              "    }\n",
              "\n",
              "    .dataframe thead th {\n",
              "        text-align: right;\n",
              "    }\n",
              "</style>\n",
              "<table border=\"1\" class=\"dataframe\">\n",
              "  <thead>\n",
              "    <tr style=\"text-align: right;\">\n",
              "      <th></th>\n",
              "      <th>index</th>\n",
              "      <th>corr_matrix</th>\n",
              "      <th>database</th>\n",
              "      <th>correlation</th>\n",
              "    </tr>\n",
              "  </thead>\n",
              "  <tbody>\n",
              "    <tr>\n",
              "      <th>0</th>\n",
              "      <td>9</td>\n",
              "      <td>Total_accepted_campaign</td>\n",
              "      <td>Total_amount</td>\n",
              "      <td>0.459554</td>\n",
              "    </tr>\n",
              "    <tr>\n",
              "      <th>1</th>\n",
              "      <td>5</td>\n",
              "      <td>Total_accepted_campaign</td>\n",
              "      <td>Response</td>\n",
              "      <td>0.426035</td>\n",
              "    </tr>\n",
              "    <tr>\n",
              "      <th>2</th>\n",
              "      <td>0</td>\n",
              "      <td>Total_accepted_campaign</td>\n",
              "      <td>Income</td>\n",
              "      <td>0.307122</td>\n",
              "    </tr>\n",
              "    <tr>\n",
              "      <th>3</th>\n",
              "      <td>8</td>\n",
              "      <td>Total_accepted_campaign</td>\n",
              "      <td>Total_Purchases</td>\n",
              "      <td>0.257273</td>\n",
              "    </tr>\n",
              "    <tr>\n",
              "      <th>4</th>\n",
              "      <td>7</td>\n",
              "      <td>Total_accepted_campaign</td>\n",
              "      <td>total_children</td>\n",
              "      <td>0.244282</td>\n",
              "    </tr>\n",
              "    <tr>\n",
              "      <th>5</th>\n",
              "      <td>10</td>\n",
              "      <td>Total_accepted_campaign</td>\n",
              "      <td>conversion_rate</td>\n",
              "      <td>0.235339</td>\n",
              "    </tr>\n",
              "    <tr>\n",
              "      <th>6</th>\n",
              "      <td>2</td>\n",
              "      <td>Total_accepted_campaign</td>\n",
              "      <td>Complain</td>\n",
              "      <td>0.022220</td>\n",
              "    </tr>\n",
              "    <tr>\n",
              "      <th>7</th>\n",
              "      <td>12</td>\n",
              "      <td>Total_accepted_campaign</td>\n",
              "      <td>Year_Joined</td>\n",
              "      <td>0.018196</td>\n",
              "    </tr>\n",
              "    <tr>\n",
              "      <th>8</th>\n",
              "      <td>11</td>\n",
              "      <td>Total_accepted_campaign</td>\n",
              "      <td>Total_Days_Joined</td>\n",
              "      <td>0.017704</td>\n",
              "    </tr>\n",
              "    <tr>\n",
              "      <th>9</th>\n",
              "      <td>1</td>\n",
              "      <td>Total_accepted_campaign</td>\n",
              "      <td>Recency</td>\n",
              "      <td>0.012570</td>\n",
              "    </tr>\n",
              "    <tr>\n",
              "      <th>10</th>\n",
              "      <td>6</td>\n",
              "      <td>Total_accepted_campaign</td>\n",
              "      <td>age</td>\n",
              "      <td>0.000301</td>\n",
              "    </tr>\n",
              "    <tr>\n",
              "      <th>11</th>\n",
              "      <td>3</td>\n",
              "      <td>Total_accepted_campaign</td>\n",
              "      <td>Z_CostContact</td>\n",
              "      <td>NaN</td>\n",
              "    </tr>\n",
              "    <tr>\n",
              "      <th>12</th>\n",
              "      <td>4</td>\n",
              "      <td>Total_accepted_campaign</td>\n",
              "      <td>Z_Revenue</td>\n",
              "      <td>NaN</td>\n",
              "    </tr>\n",
              "  </tbody>\n",
              "</table>\n",
              "</div>\n",
              "      <button class=\"colab-df-convert\" onclick=\"convertToInteractive('df-666462fc-9879-48d2-8ca6-c92f3a67d51c')\"\n",
              "              title=\"Convert this dataframe to an interactive table.\"\n",
              "              style=\"display:none;\">\n",
              "\n",
              "  <svg xmlns=\"http://www.w3.org/2000/svg\" height=\"24px\"viewBox=\"0 0 24 24\"\n",
              "       width=\"24px\">\n",
              "    <path d=\"M0 0h24v24H0V0z\" fill=\"none\"/>\n",
              "    <path d=\"M18.56 5.44l.94 2.06.94-2.06 2.06-.94-2.06-.94-.94-2.06-.94 2.06-2.06.94zm-11 1L8.5 8.5l.94-2.06 2.06-.94-2.06-.94L8.5 2.5l-.94 2.06-2.06.94zm10 10l.94 2.06.94-2.06 2.06-.94-2.06-.94-.94-2.06-.94 2.06-2.06.94z\"/><path d=\"M17.41 7.96l-1.37-1.37c-.4-.4-.92-.59-1.43-.59-.52 0-1.04.2-1.43.59L10.3 9.45l-7.72 7.72c-.78.78-.78 2.05 0 2.83L4 21.41c.39.39.9.59 1.41.59.51 0 1.02-.2 1.41-.59l7.78-7.78 2.81-2.81c.8-.78.8-2.07 0-2.86zM5.41 20L4 18.59l7.72-7.72 1.47 1.35L5.41 20z\"/>\n",
              "  </svg>\n",
              "      </button>\n",
              "\n",
              "\n",
              "\n",
              "    <div id=\"df-77367284-e2d7-4721-8381-abaa817f4261\">\n",
              "      <button class=\"colab-df-quickchart\" onclick=\"quickchart('df-77367284-e2d7-4721-8381-abaa817f4261')\"\n",
              "              title=\"Suggest charts.\"\n",
              "              style=\"display:none;\">\n",
              "\n",
              "<svg xmlns=\"http://www.w3.org/2000/svg\" height=\"24px\"viewBox=\"0 0 24 24\"\n",
              "     width=\"24px\">\n",
              "    <g>\n",
              "        <path d=\"M19 3H5c-1.1 0-2 .9-2 2v14c0 1.1.9 2 2 2h14c1.1 0 2-.9 2-2V5c0-1.1-.9-2-2-2zM9 17H7v-7h2v7zm4 0h-2V7h2v10zm4 0h-2v-4h2v4z\"/>\n",
              "    </g>\n",
              "</svg>\n",
              "      </button>\n",
              "    </div>\n",
              "\n",
              "<style>\n",
              "  .colab-df-quickchart {\n",
              "    background-color: #E8F0FE;\n",
              "    border: none;\n",
              "    border-radius: 50%;\n",
              "    cursor: pointer;\n",
              "    display: none;\n",
              "    fill: #1967D2;\n",
              "    height: 32px;\n",
              "    padding: 0 0 0 0;\n",
              "    width: 32px;\n",
              "  }\n",
              "\n",
              "  .colab-df-quickchart:hover {\n",
              "    background-color: #E2EBFA;\n",
              "    box-shadow: 0px 1px 2px rgba(60, 64, 67, 0.3), 0px 1px 3px 1px rgba(60, 64, 67, 0.15);\n",
              "    fill: #174EA6;\n",
              "  }\n",
              "\n",
              "  [theme=dark] .colab-df-quickchart {\n",
              "    background-color: #3B4455;\n",
              "    fill: #D2E3FC;\n",
              "  }\n",
              "\n",
              "  [theme=dark] .colab-df-quickchart:hover {\n",
              "    background-color: #434B5C;\n",
              "    box-shadow: 0px 1px 3px 1px rgba(0, 0, 0, 0.15);\n",
              "    filter: drop-shadow(0px 1px 2px rgba(0, 0, 0, 0.3));\n",
              "    fill: #FFFFFF;\n",
              "  }\n",
              "</style>\n",
              "\n",
              "    <script>\n",
              "      async function quickchart(key) {\n",
              "        const containerElement = document.querySelector('#' + key);\n",
              "        const charts = await google.colab.kernel.invokeFunction(\n",
              "            'suggestCharts', [key], {});\n",
              "      }\n",
              "    </script>\n",
              "\n",
              "      <script>\n",
              "\n",
              "function displayQuickchartButton(domScope) {\n",
              "  let quickchartButtonEl =\n",
              "    domScope.querySelector('#df-77367284-e2d7-4721-8381-abaa817f4261 button.colab-df-quickchart');\n",
              "  quickchartButtonEl.style.display =\n",
              "    google.colab.kernel.accessAllowed ? 'block' : 'none';\n",
              "}\n",
              "\n",
              "        displayQuickchartButton(document);\n",
              "      </script>\n",
              "      <style>\n",
              "    .colab-df-container {\n",
              "      display:flex;\n",
              "      flex-wrap:wrap;\n",
              "      gap: 12px;\n",
              "    }\n",
              "\n",
              "    .colab-df-convert {\n",
              "      background-color: #E8F0FE;\n",
              "      border: none;\n",
              "      border-radius: 50%;\n",
              "      cursor: pointer;\n",
              "      display: none;\n",
              "      fill: #1967D2;\n",
              "      height: 32px;\n",
              "      padding: 0 0 0 0;\n",
              "      width: 32px;\n",
              "    }\n",
              "\n",
              "    .colab-df-convert:hover {\n",
              "      background-color: #E2EBFA;\n",
              "      box-shadow: 0px 1px 2px rgba(60, 64, 67, 0.3), 0px 1px 3px 1px rgba(60, 64, 67, 0.15);\n",
              "      fill: #174EA6;\n",
              "    }\n",
              "\n",
              "    [theme=dark] .colab-df-convert {\n",
              "      background-color: #3B4455;\n",
              "      fill: #D2E3FC;\n",
              "    }\n",
              "\n",
              "    [theme=dark] .colab-df-convert:hover {\n",
              "      background-color: #434B5C;\n",
              "      box-shadow: 0px 1px 3px 1px rgba(0, 0, 0, 0.15);\n",
              "      filter: drop-shadow(0px 1px 2px rgba(0, 0, 0, 0.3));\n",
              "      fill: #FFFFFF;\n",
              "    }\n",
              "  </style>\n",
              "\n",
              "      <script>\n",
              "        const buttonEl =\n",
              "          document.querySelector('#df-666462fc-9879-48d2-8ca6-c92f3a67d51c button.colab-df-convert');\n",
              "        buttonEl.style.display =\n",
              "          google.colab.kernel.accessAllowed ? 'block' : 'none';\n",
              "\n",
              "        async function convertToInteractive(key) {\n",
              "          const element = document.querySelector('#df-666462fc-9879-48d2-8ca6-c92f3a67d51c');\n",
              "          const dataTable =\n",
              "            await google.colab.kernel.invokeFunction('convertToInteractive',\n",
              "                                                     [key], {});\n",
              "          if (!dataTable) return;\n",
              "\n",
              "          const docLinkHtml = 'Like what you see? Visit the ' +\n",
              "            '<a target=\"_blank\" href=https://colab.research.google.com/notebooks/data_table.ipynb>data table notebook</a>'\n",
              "            + ' to learn more about interactive tables.';\n",
              "          element.innerHTML = '';\n",
              "          dataTable['output_type'] = 'display_data';\n",
              "          await google.colab.output.renderOutput(dataTable, element);\n",
              "          const docLink = document.createElement('div');\n",
              "          docLink.innerHTML = docLinkHtml;\n",
              "          element.appendChild(docLink);\n",
              "        }\n",
              "      </script>\n",
              "    </div>\n",
              "  </div>\n"
            ],
            "text/plain": [
              "    index              corr_matrix           database  correlation\n",
              "0       9  Total_accepted_campaign       Total_amount     0.459554\n",
              "1       5  Total_accepted_campaign           Response     0.426035\n",
              "2       0  Total_accepted_campaign             Income     0.307122\n",
              "3       8  Total_accepted_campaign    Total_Purchases     0.257273\n",
              "4       7  Total_accepted_campaign     total_children     0.244282\n",
              "5      10  Total_accepted_campaign    conversion_rate     0.235339\n",
              "6       2  Total_accepted_campaign           Complain     0.022220\n",
              "7      12  Total_accepted_campaign        Year_Joined     0.018196\n",
              "8      11  Total_accepted_campaign  Total_Days_Joined     0.017704\n",
              "9       1  Total_accepted_campaign            Recency     0.012570\n",
              "10      6  Total_accepted_campaign                age     0.000301\n",
              "11      3  Total_accepted_campaign      Z_CostContact          NaN\n",
              "12      4  Total_accepted_campaign          Z_Revenue          NaN"
            ]
          },
          "execution_count": 56,
          "metadata": {},
          "output_type": "execute_result"
        }
      ],
      "source": [
        "a = get_nonself_correlation(data, 'Total_accepted_campaign').sort_values(by='correlation', ascending = False).reset_index()\n",
        "a"
      ]
    },
    {
      "cell_type": "markdown",
      "metadata": {
        "id": "UeD603upjcnC"
      },
      "source": [
        "**According to the correlation between the total_accepted_campaign column with another numeric column, there are have 5 top columns called total_amount, response, income, total purchases, and total children**"
      ]
    },
    {
      "cell_type": "code",
      "execution_count": null,
      "metadata": {
        "id": "dKK14CdsjQSk"
      },
      "outputs": [],
      "source": [
        "cat = []\n",
        "num = []\n",
        "dat = []\n",
        "\n",
        "numeric = ['int64', 'int32', 'float64']\n",
        "\n",
        "for i in data.columns:\n",
        "    data_type = str(data[i].dtype)\n",
        "    if data_type == 'object' :\n",
        "        cat.append(i)\n",
        "    elif data_type in numeric :\n",
        "        num.append(i)\n",
        "    else:\n",
        "        dat.append(i)"
      ]
    },
    {
      "cell_type": "code",
      "execution_count": null,
      "metadata": {
        "colab": {
          "base_uri": "https://localhost:8080/"
        },
        "id": "LeWjiiXjjQUV",
        "outputId": "b5585594-cd05-4eea-9094-3f1538df56c8"
      },
      "outputs": [
        {
          "name": "stdout",
          "output_type": "stream",
          "text": [
            "Chi-squared test for Education:\n",
            "Chi-squared test statistic:  13.652661876664261\n",
            "p-value:  0.6245722039336391\n",
            "\n",
            "\n",
            "Chi-squared test for Marital_Status:\n",
            "Chi-squared test statistic:  14.449720719561753\n",
            "p-value:  0.8069820454432216\n",
            "\n",
            "\n",
            "Chi-squared test for grup_age:\n",
            "Chi-squared test statistic:  16.430737547135532\n",
            "p-value:  0.036613853379265\n",
            "\n",
            "\n"
          ]
        }
      ],
      "source": [
        "for col in cat:\n",
        "    # create the contingency table\n",
        "    contingency_table = pd.crosstab(data['Total_accepted_campaign'], data[col])\n",
        "\n",
        "    # calculate the chi-squared test\n",
        "    chi2, p, dof, expected = chi2_contingency(contingency_table)\n",
        "    print(f\"Chi-squared test for {col}:\")\n",
        "    print(\"Chi-squared test statistic: \", chi2)\n",
        "    print(\"p-value: \", p)\n",
        "    print(\"\\n\")"
      ]
    },
    {
      "cell_type": "markdown",
      "metadata": {
        "id": "A4cvJnfWj2Ke"
      },
      "source": [
        "**we can see that grup_age column have the lowest value of p-value, so it's mean that there is a significant assocation between grup_age and total_accepted_campaign**"
      ]
    },
    {
      "cell_type": "code",
      "execution_count": null,
      "metadata": {
        "colab": {
          "base_uri": "https://localhost:8080/"
        },
        "id": "zLzEOl9lj1pW",
        "outputId": "13b50870-8927-4fb3-aae8-a8263dea35e1"
      },
      "outputs": [
        {
          "name": "stdout",
          "output_type": "stream",
          "text": [
            "Kendall's tau Education:  0.016141073374069795\n",
            "p-value:  0.39932511808086635\n",
            "Kendall's tau Marital_Status:  0.009742408571626327\n",
            "p-value:  0.6064925560787362\n",
            "Kendall's tau grup_age:  0.05325704862050624\n",
            "p-value:  0.008690000767586078\n"
          ]
        }
      ],
      "source": [
        "from scipy.stats import kendalltau\n",
        "\n",
        "# calculate the Kendall's tau\n",
        "for col in cat:\n",
        "    corr, p = kendalltau(data['Total_accepted_campaign'], data[col])\n",
        "    print(f\"Kendall's tau {col}: \", corr)\n",
        "    print(\"p-value: \", p)"
      ]
    },
    {
      "cell_type": "code",
      "execution_count": null,
      "metadata": {
        "colab": {
          "base_uri": "https://localhost:8080/"
        },
        "id": "dLVHLBGZjwsZ",
        "outputId": "c6de48fd-6871-4c05-947d-2804f7cca5c0"
      },
      "outputs": [
        {
          "name": "stdout",
          "output_type": "stream",
          "text": [
            "Spearman's rank correlation Education:  0.01782552652320855\n",
            "p-value:  0.39908641509598164\n",
            "Spearman's rank correlation Marital_Status:  0.01086844474062379\n",
            "p-value:  0.6071703659012476\n",
            "Spearman's rank correlation grup_age:  0.055390151249012635\n",
            "p-value:  0.008739229563143776\n"
          ]
        }
      ],
      "source": [
        "from scipy.stats import spearmanr\n",
        "\n",
        "# calculate the Spearman's rank correlation\n",
        "for col in cat:\n",
        "    corr, p = spearmanr(data['Total_accepted_campaign'], data[col])\n",
        "    print(f\"Spearman's rank correlation {col}: \", corr)\n",
        "    print(\"p-value: \", p)"
      ]
    },
    {
      "cell_type": "markdown",
      "metadata": {
        "id": "hxqjXDhYkErW"
      },
      "source": [
        "**Using spearman and kendalltau to know correlation between total_accepted_campaign with categories value, we got grup_age have a higher correlation than another column.**"
      ]
    },
    {
      "cell_type": "code",
      "execution_count": null,
      "metadata": {
        "id": "P5j4ggLEjwuo"
      },
      "outputs": [],
      "source": []
    },
    {
      "cell_type": "markdown",
      "metadata": {
        "id": "vwRC3wl5kO-h"
      },
      "source": [
        "# **Analysis**"
      ]
    },
    {
      "cell_type": "code",
      "execution_count": null,
      "metadata": {
        "colab": {
          "base_uri": "https://localhost:8080/"
        },
        "id": "Gt59Nyb-jwy_",
        "outputId": "56e06504-b581-49db-f021-7790d9f81ff2"
      },
      "outputs": [
        {
          "name": "stdout",
          "output_type": "stream",
          "text": [
            "<class 'pandas.core.frame.DataFrame'>\n",
            "Int64Index: 2240 entries, 0 to 2239\n",
            "Data columns (total 18 columns):\n",
            " #   Column                   Non-Null Count  Dtype         \n",
            "---  ------                   --------------  -----         \n",
            " 0   Education                2240 non-null   object        \n",
            " 1   Marital_Status           2240 non-null   object        \n",
            " 2   Income                   2240 non-null   float64       \n",
            " 3   Dt_Customer              2240 non-null   datetime64[ns]\n",
            " 4   Recency                  2240 non-null   int64         \n",
            " 5   Complain                 2240 non-null   int64         \n",
            " 6   Z_CostContact            2240 non-null   int64         \n",
            " 7   Z_Revenue                2240 non-null   int64         \n",
            " 8   Response                 2240 non-null   int64         \n",
            " 9   age                      2240 non-null   int64         \n",
            " 10  total_children           2240 non-null   int64         \n",
            " 11  grup_age                 2240 non-null   object        \n",
            " 12  Total_accepted_campaign  2240 non-null   int64         \n",
            " 13  Total_Purchases          2240 non-null   int64         \n",
            " 14  Total_amount             2240 non-null   int64         \n",
            " 15  conversion_rate          2238 non-null   float64       \n",
            " 16  Total_Days_Joined        2240 non-null   int64         \n",
            " 17  Year_Joined              2240 non-null   int64         \n",
            "dtypes: datetime64[ns](1), float64(2), int64(12), object(3)\n",
            "memory usage: 332.5+ KB\n"
          ]
        }
      ],
      "source": [
        "data.info()"
      ]
    },
    {
      "cell_type": "code",
      "execution_count": null,
      "metadata": {
        "id": "JZiLr943jQY_"
      },
      "outputs": [],
      "source": [
        "num_column = ['Total_amount', 'Response', 'Income', 'Total_Purchases','total_children']\n",
        "cat_column = ['grup_age']\n",
        "\n",
        "column = num_column + cat_column"
      ]
    },
    {
      "cell_type": "code",
      "execution_count": null,
      "metadata": {
        "colab": {
          "base_uri": "https://localhost:8080/"
        },
        "id": "sx2L2Jk0kcUt",
        "outputId": "1c187261-7886-41fa-cf64-6967702b118d"
      },
      "outputs": [
        {
          "ename": "TypeError",
          "evalue": "ignored",
          "output_type": "error",
          "traceback": [
            "\u001b[0;31m---------------------------------------------------------------------------\u001b[0m",
            "\u001b[0;31mTypeError\u001b[0m                                 Traceback (most recent call last)",
            "\u001b[0;32m<ipython-input-66-98e5cbe17703>\u001b[0m in \u001b[0;36m<cell line: 3>\u001b[0;34m()\u001b[0m\n\u001b[1;32m      3\u001b[0m \u001b[0;32mfor\u001b[0m \u001b[0mi\u001b[0m\u001b[0;34m,\u001b[0m \u001b[0mcol\u001b[0m \u001b[0;32min\u001b[0m \u001b[0menumerate\u001b[0m \u001b[0;34m(\u001b[0m\u001b[0mdata\u001b[0m\u001b[0;34m[\u001b[0m\u001b[0mcolumn\u001b[0m\u001b[0;34m]\u001b[0m\u001b[0;34m,\u001b[0m \u001b[0;36m1\u001b[0m\u001b[0;34m)\u001b[0m\u001b[0;34m:\u001b[0m\u001b[0;34m\u001b[0m\u001b[0;34m\u001b[0m\u001b[0m\n\u001b[1;32m      4\u001b[0m     \u001b[0mplt\u001b[0m\u001b[0;34m.\u001b[0m\u001b[0msubplot\u001b[0m\u001b[0;34m(\u001b[0m\u001b[0;36m3\u001b[0m\u001b[0;34m,\u001b[0m\u001b[0;36m2\u001b[0m\u001b[0;34m,\u001b[0m\u001b[0mi\u001b[0m\u001b[0;34m)\u001b[0m\u001b[0;34m\u001b[0m\u001b[0;34m\u001b[0m\u001b[0m\n\u001b[0;32m----> 5\u001b[0;31m     \u001b[0msns\u001b[0m\u001b[0;34m.\u001b[0m\u001b[0mbarplot\u001b[0m\u001b[0;34m(\u001b[0m\u001b[0mdata\u001b[0m\u001b[0;34m[\u001b[0m\u001b[0;34m'Total_accepted_campaign'\u001b[0m\u001b[0;34m]\u001b[0m\u001b[0;34m,\u001b[0m \u001b[0mdata\u001b[0m\u001b[0;34m[\u001b[0m\u001b[0mcol\u001b[0m\u001b[0;34m]\u001b[0m\u001b[0;34m)\u001b[0m\u001b[0;34m\u001b[0m\u001b[0;34m\u001b[0m\u001b[0m\n\u001b[0m\u001b[1;32m      6\u001b[0m     \u001b[0mplt\u001b[0m\u001b[0;34m.\u001b[0m\u001b[0mylabel\u001b[0m\u001b[0;34m(\u001b[0m\u001b[0;34mf'Mean of {col}'\u001b[0m\u001b[0;34m)\u001b[0m\u001b[0;34m\u001b[0m\u001b[0;34m\u001b[0m\u001b[0m\n\u001b[1;32m      7\u001b[0m     \u001b[0mplt\u001b[0m\u001b[0;34m.\u001b[0m\u001b[0mtight_layout\u001b[0m\u001b[0;34m(\u001b[0m\u001b[0;34m)\u001b[0m\u001b[0;34m\u001b[0m\u001b[0;34m\u001b[0m\u001b[0m\n",
            "\u001b[0;31mTypeError\u001b[0m: barplot() takes from 0 to 1 positional arguments but 2 were given"
          ]
        },
        {
          "data": {
            "image/png": "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\n",
            "text/plain": [
              "<Figure size 1200x800 with 1 Axes>"
            ]
          },
          "metadata": {},
          "output_type": "display_data"
        }
      ],
      "source": [
        "plt.figure(figsize=(12,8))\n",
        "\n",
        "for i, col in enumerate (data[column], 1):\n",
        "    plt.subplot(3,2,i)\n",
        "    sns.barplot(data['Total_accepted_campaign'], data[col])\n",
        "    plt.ylabel(f'Mean of {col}')\n",
        "    plt.tight_layout()"
      ]
    },
    {
      "cell_type": "code",
      "execution_count": null,
      "metadata": {
        "id": "FCbGZ1JGkjl7"
      },
      "outputs": [],
      "source": [
        "plt.figure(figsize=(12,8))\n",
        "\n",
        "for i, col in enumerate (data[num_column], 1):\n",
        "    plt.subplot(3,2,i)\n",
        "    plt.scatter(data['conversion_rate'], data[col])\n",
        "    plt.ylabel(f'{col}')\n",
        "    plt.xlabel('cvr')\n",
        "    plt.tight_layout()"
      ]
    },
    {
      "cell_type": "code",
      "execution_count": null,
      "metadata": {
        "id": "VTRj3KKTkokq"
      },
      "outputs": [],
      "source": []
    },
    {
      "cell_type": "markdown",
      "metadata": {
        "id": "Q37IxdIVkpiC"
      },
      "source": [
        "# **Data Preprocessing**"
      ]
    },
    {
      "cell_type": "code",
      "execution_count": null,
      "metadata": {
        "id": "eFZUZur-komc"
      },
      "outputs": [],
      "source": [
        "# Change the value in the column\n",
        "\n",
        "not_marry = ['Lajang', 'Bertunangan']\n",
        "marry = ['Menikah', 'Cerai', 'Janda', 'Duda']\n",
        "\n",
        "marital_Status = []\n",
        "for i in data['Marital_Status']:\n",
        "    if i in not_marry:\n",
        "        status = 'Never been married'\n",
        "    else:\n",
        "        status = 'Ever been married'\n",
        "    marital_Status.append(status)\n",
        "\n",
        "data['Marital_Status'] = marital_Status"
      ]
    },
    {
      "cell_type": "code",
      "execution_count": null,
      "metadata": {
        "id": "ne9Ew9ygkzMG"
      },
      "outputs": [],
      "source": [
        "# Look for a numeric data type that has a unique value > 2\n",
        "\n",
        "num = data[num]\n",
        "\n",
        "data_num = pd.DataFrame(num.nunique(), columns = ['Total_unique']).reset_index()\n",
        "data_num = data_num.rename(columns = {'index' : 'Name_of_column'})\n",
        "\n",
        "num_a = []\n",
        "num_b = []\n",
        "for i,y in enumerate(data_num.Name_of_column):\n",
        "    if data_num['Total_unique'][i] > 2:\n",
        "        num_a.append(y)\n",
        "    else:\n",
        "        num_b.append(y)"
      ]
    },
    {
      "cell_type": "markdown",
      "metadata": {
        "id": "tem-QNpVlLzF"
      },
      "source": [
        "**For numeric column with unique value more than 2, we will do data transformation**"
      ]
    },
    {
      "cell_type": "code",
      "execution_count": null,
      "metadata": {
        "id": "W2U1UX2SkzN9"
      },
      "outputs": [],
      "source": [
        "plt.figure(figsize=(12,8))\n",
        "\n",
        "for i, column in enumerate (data[num_a].columns, 1):\n",
        "    plt.subplot(4,4,i)\n",
        "    sns.boxplot(data=data[num_a], x=data[column])\n",
        "    plt.tight_layout()"
      ]
    },
    {
      "cell_type": "markdown",
      "metadata": {
        "id": "Vb_9kB6Hlafs"
      },
      "source": [
        "**we will delete outlier at Income and age column with Z-Score**"
      ]
    },
    {
      "cell_type": "code",
      "execution_count": null,
      "metadata": {
        "id": "Ch_CB3n2kzSK"
      },
      "outputs": [],
      "source": [
        "print(f'Total rows before delete outlier: {len(data)}')\n",
        "\n",
        "filtered_entries = np.array([True] * len(data))\n",
        "nums = ['Income', 'age']\n",
        "\n",
        "for col in nums:\n",
        "    zscore = abs(stats.zscore(data[col])) # hitung absolute z-scorenya\n",
        "    filtered_entries = (zscore < 3) & filtered_entries # keep yang kurang dari 3 absolute z-scorenya\n",
        "\n",
        "data = data[filtered_entries] # filter, cuma ambil yang z-scorenya dibawah 3\n",
        "data[num_a] = data[num_a].replace([np.inf, -np.inf], 0)\n",
        "\n",
        "print(f'Total rows after delete outlier: {len(data)}')"
      ]
    },
    {
      "cell_type": "code",
      "execution_count": null,
      "metadata": {
        "id": "a4ScGK0zkzUg"
      },
      "outputs": [],
      "source": [
        "plt.figure(figsize=(12,8))\n",
        "\n",
        "for i, column in enumerate (data[num_a].columns, 1):\n",
        "    plt.subplot(4,4,i)\n",
        "    sns.kdeplot(data=data[num_a], x=data[column])\n",
        "    plt.tight_layout()"
      ]
    },
    {
      "cell_type": "code",
      "execution_count": null,
      "metadata": {
        "id": "7CG0S2rllrk4"
      },
      "outputs": [],
      "source": [
        "data_2 = data.copy()"
      ]
    },
    {
      "cell_type": "code",
      "execution_count": null,
      "metadata": {
        "id": "vFCVmAHqlrqt"
      },
      "outputs": [],
      "source": [
        "from sklearn.preprocessing import MinMaxScaler\n",
        "scaler = MinMaxScaler()\n",
        "features = data[num_a]\n",
        "\n",
        "data[num_a] = scaler.fit_transform(features.values)\n",
        "\n",
        "plt.figure(figsize=(12,8))\n",
        "for i, column in enumerate (data[num_a].columns, 1):\n",
        "    plt.subplot(4,4,i)\n",
        "    sns.kdeplot(data=data, x=data[column])\n",
        "    plt.tight_layout()"
      ]
    },
    {
      "cell_type": "markdown",
      "metadata": {
        "id": "QAFwX_kMl0pT"
      },
      "source": [
        "# **Label Encoding**"
      ]
    },
    {
      "cell_type": "markdown",
      "metadata": {
        "id": "7F-FD01-l7or"
      },
      "source": [
        "**Because all the categories column have Ordinal data, so we can use label encoding.**"
      ]
    },
    {
      "cell_type": "code",
      "execution_count": null,
      "metadata": {
        "id": "7hOi-wJjlrsj"
      },
      "outputs": [],
      "source": [
        "data[num_a].info()"
      ]
    },
    {
      "cell_type": "code",
      "execution_count": null,
      "metadata": {
        "id": "TI5iqUhvlrwY"
      },
      "outputs": [],
      "source": [
        "# Label Encoding\n",
        "mapping_education = {\n",
        "    'SMA' : 0,\n",
        "    'D3'  : 1,\n",
        "    'S1'  : 2,\n",
        "    'S2'  : 3,\n",
        "    'S3'  : 4\n",
        "}\n",
        "\n",
        "mapping_marital = {\n",
        "    'Never been married' : 0,\n",
        "    'Ever been married' : 1\n",
        "}\n",
        "\n",
        "mapping_grup_age = {\n",
        "    'Young Adult' : 0,\n",
        "    'Adult'  : 1,\n",
        "    'Senior Adult' : 2\n",
        "}\n",
        "\n",
        "data['Education'] = data['Education'].map(mapping_education)\n",
        "data['Marital_Status'] = data['Marital_Status'].map(mapping_marital)\n",
        "data['grup_age'] = data['grup_age'].map(mapping_grup_age)"
      ]
    },
    {
      "cell_type": "code",
      "execution_count": null,
      "metadata": {
        "id": "K321arLElryx"
      },
      "outputs": [],
      "source": []
    },
    {
      "cell_type": "markdown",
      "metadata": {
        "id": "b50FFGcJmZqv"
      },
      "source": [
        "# **Modeling(unsupervised learning, namely clustering)**"
      ]
    },
    {
      "cell_type": "markdown",
      "metadata": {
        "id": "cGbgLG6Mms08"
      },
      "source": [
        "**Feature Selection**"
      ]
    },
    {
      "cell_type": "code",
      "execution_count": null,
      "metadata": {
        "id": "QEQLKwcikzYE"
      },
      "outputs": [],
      "source": [
        "'''\n",
        "REFERENCE: For segmenting customer, there is a method called RFM Analysis, for you want to know deeply about RFM can read this reference : https://www.barilliance.com/rfm-analysis/#:~:text=RFM%20analysis%20is%20a%20data,much%20they%27ve%20spent%20overall.\n",
        "\n",
        "Recency : Date of Last of Purchases : Recency\n",
        "\n",
        "Frequency : Total Number of Orders : Total_Purchases\n",
        "\n",
        "Monetization : Total order value : Total_amount\n",
        "\n",
        "Loyalty : Total campaign accepted : Total_accepted_campaign\n",
        "'''\n"
      ]
    },
    {
      "cell_type": "code",
      "execution_count": null,
      "metadata": {
        "id": "itssQrpLkzqB"
      },
      "outputs": [],
      "source": [
        "data_mod = data[['Recency', 'Total_Purchases', 'Total_amount', 'Total_accepted_campaign']]"
      ]
    },
    {
      "cell_type": "code",
      "execution_count": null,
      "metadata": {
        "id": "kAjP5boVkzvf"
      },
      "outputs": [],
      "source": [
        "mod_col = data_mod.columns"
      ]
    },
    {
      "cell_type": "code",
      "execution_count": null,
      "metadata": {
        "id": "Aya65IETkz8f"
      },
      "outputs": [],
      "source": []
    },
    {
      "cell_type": "markdown",
      "metadata": {
        "id": "hClYAQKunXQh"
      },
      "source": [
        "**K-Means**"
      ]
    },
    {
      "cell_type": "code",
      "execution_count": null,
      "metadata": {
        "id": "NBFOc30enWrD"
      },
      "outputs": [],
      "source": [
        "# Elbow Score\n",
        "\n",
        "inertia=[]\n",
        "\n",
        "for i in range(1, 11):\n",
        "    kmeans = KMeans(n_clusters=i, random_state=0)\n",
        "    kmeans.fit(data_mod)\n",
        "    inertia.append(np.round(kmeans.inertia_ ,2))\n",
        "\n",
        "x = range(1,11)\n",
        "\n",
        "plt.figure(figsize=(12,8))\n",
        "sns.lineplot(x=x, y=inertia)\n",
        "sns.scatterplot(x=x, y=inertia)\n",
        "\n",
        "for i, label in enumerate(inertia):\n",
        "    plt.text(x[i] + 0.2, inertia[i] + 5, label, ha='center', va='bottom')\n",
        "\n",
        "plt.xticks(range(1,11 ,1))\n",
        "plt.show()"
      ]
    },
    {
      "cell_type": "markdown",
      "metadata": {
        "id": "jP-TE6UynwJT"
      },
      "source": [
        "**For picture above, we can see when n_cluster = 4, the inertia score did'nt change significantly, so we will use n_cluster = 4**"
      ]
    },
    {
      "cell_type": "code",
      "execution_count": null,
      "metadata": {
        "id": "uLUWqDU9nrzx"
      },
      "outputs": [],
      "source": [
        "# Silhouette score\n",
        "\n",
        "arr_silhouette_score = []\n",
        "\n",
        "for i in range(2,11):\n",
        "    kmeans = KMeans(n_clusters=i).fit(data_mod)\n",
        "    preds = kmeans.predict(data_mod)\n",
        "    score_euclidean = silhouette_score(data_mod, preds, metric='euclidean')\n",
        "    arr_silhouette_score.append(np.round(score_euclidean ,2))\n",
        "\n",
        "x = range(2,11)\n",
        "\n",
        "plt.figure(figsize=(12,8))\n",
        "sns.lineplot(x=x, y=arr_silhouette_score)\n",
        "sns.scatterplot(x=x, y=arr_silhouette_score)\n",
        "\n",
        "for i, label in enumerate(arr_silhouette_score):\n",
        "    plt.text(x[i] + 0.2, arr_silhouette_score[i], label, ha='center', va='bottom')\n",
        "\n",
        "plt.xticks(range(1,11 ,1))\n",
        "plt.show()"
      ]
    },
    {
      "cell_type": "markdown",
      "metadata": {
        "id": "2a__7Fyfn-VD"
      },
      "source": [
        "**from picture above, we can see that when n=cluster = 4, it get 0.35 at silhoutte score**"
      ]
    },
    {
      "cell_type": "code",
      "execution_count": null,
      "metadata": {
        "id": "aa9BDQqOnr1o"
      },
      "outputs": [],
      "source": []
    },
    {
      "cell_type": "markdown",
      "metadata": {
        "id": "3ZBAMUaZoGPa"
      },
      "source": [
        "## **Train Model**"
      ]
    },
    {
      "cell_type": "code",
      "execution_count": null,
      "metadata": {
        "id": "oFLRP1F6nr6k"
      },
      "outputs": [],
      "source": [
        "model = KMeans(n_clusters=4, random_state=0).fit(data_mod)\n",
        "data_mod['Cluster'] = model.labels_\n",
        "data['Cluster'] = model.labels_"
      ]
    },
    {
      "cell_type": "code",
      "execution_count": null,
      "metadata": {
        "id": "Vx99NUwonr9V"
      },
      "outputs": [],
      "source": [
        "data"
      ]
    },
    {
      "cell_type": "code",
      "execution_count": null,
      "metadata": {
        "id": "HWqG3Uk2nsAi"
      },
      "outputs": [],
      "source": []
    },
    {
      "cell_type": "markdown",
      "metadata": {
        "id": "gk1xQBV3oTll"
      },
      "source": [
        "**PCA**"
      ]
    },
    {
      "cell_type": "code",
      "execution_count": null,
      "metadata": {
        "id": "pWD9Fk20oSO2"
      },
      "outputs": [],
      "source": [
        "data_pca = data_mod.drop(columns = 'Cluster')"
      ]
    },
    {
      "cell_type": "code",
      "execution_count": null,
      "metadata": {
        "id": "4KaCM7MFoSQz"
      },
      "outputs": [],
      "source": [
        "data_pca"
      ]
    },
    {
      "cell_type": "code",
      "execution_count": null,
      "metadata": {
        "id": "pd9qu7T6oho-"
      },
      "outputs": [],
      "source": [
        "pca = PCA(n_components=2)\n",
        "pca.fit(data_pca)\n",
        "x_pca = pca.transform(data_pca)"
      ]
    },
    {
      "cell_type": "code",
      "execution_count": null,
      "metadata": {
        "id": "VdJyWo_cohqx"
      },
      "outputs": [],
      "source": [
        "pdata = pd.DataFrame(x_pca, columns= ['pc1', 'pc2'])"
      ]
    },
    {
      "cell_type": "code",
      "execution_count": null,
      "metadata": {
        "id": "yHfFgvRnohvU"
      },
      "outputs": [],
      "source": [
        "pdata['Cluster'] = model.labels_\n",
        "pdata"
      ]
    },
    {
      "cell_type": "code",
      "execution_count": null,
      "metadata": {
        "id": "ExRYLB_NohxC"
      },
      "outputs": [],
      "source": [
        "fig,ax = plt.subplots(figsize=(12,8))\n",
        "\n",
        "sns.scatterplot(\n",
        "    x=\"pc1\", y=\"pc2\",\n",
        "    hue=\"Cluster\",\n",
        "    edgecolor='black',\n",
        "    #linestyle='--',\n",
        "    data=pdata,\n",
        "    palette=['blue','orange','green','red'],\n",
        "    s=160,\n",
        "    ax=ax\n",
        ");"
      ]
    },
    {
      "cell_type": "code",
      "execution_count": null,
      "metadata": {
        "id": "lmFpM8Qroh2G"
      },
      "outputs": [],
      "source": [
        "data_2['Cluster'] = model.labels_\n",
        "\n",
        "fig = plt.figure(figsize=(15,10))\n",
        "ax = fig.add_subplot(111, projection='3d')\n",
        "plt.title(\"3-D Visualization of Customer Clusters\\nBased on it's Characteristics\", fontsize=15, weight='bold')\n",
        "ax.scatter(data_2['Recency'][data_2.Cluster == 0], data_2['Total_Purchases'][data_2.Cluster == 0], data_2['Total_amount'][data_2.Cluster == 0], c='blue', s=100, edgecolor='black', label='High-Valued Customer')\n",
        "ax.scatter(data_2['Recency'][data_2.Cluster == 1], data_2['Total_Purchases'][data_2.Cluster == 1], data_2['Total_amount'][data_2.Cluster == 1], c='red', s=100, edgecolor='black', label='Very Low-Valued Customer')\n",
        "ax.scatter(data_2['Recency'][data_2.Cluster == 2], data_2['Total_Purchases'][data_2.Cluster == 2], data_2['Total_amount'][data_2.Cluster == 2], c='green', s=100, edgecolor='black',  label='Medium-Valued Customer')\n",
        "ax.scatter(data_2['Recency'][data_2.Cluster == 3], data_2['Total_Purchases'][data_2.Cluster == 3], data_2['Total_amount'][data_2.Cluster == 3], c='yellow', s=100, edgecolor='black', label='Low-Valued Customer')\n",
        "plt.xlabel('Recency')\n",
        "plt.ylabel('Total Purchases')\n",
        "ax.set_zlabel('Total Spent')\n",
        "plt.legend(title='Cluster:')\n",
        "plt.show()"
      ]
    },
    {
      "cell_type": "code",
      "execution_count": null,
      "metadata": {
        "id": "TD_AQfo3o4Nt"
      },
      "outputs": [],
      "source": []
    },
    {
      "cell_type": "markdown",
      "metadata": {
        "id": "6uuEsBjro5Ln"
      },
      "source": [
        "# **Insight from Model**"
      ]
    },
    {
      "cell_type": "code",
      "execution_count": null,
      "metadata": {
        "id": "lRK2w_VTo4Pp"
      },
      "outputs": [],
      "source": [
        "cluster = []\n",
        "\n",
        "for i in data_2['Cluster']:\n",
        "    if i == 0:\n",
        "        grup = 'High Value Customer'\n",
        "    elif i == 1:\n",
        "        grup = 'Very Low Value Customer'\n",
        "    elif i == 2:\n",
        "        grup = 'Medium Value Customer'\n",
        "    else :\n",
        "        grup = 'Low Value Customer'\n",
        "    cluster.append(grup)\n",
        "\n",
        "data_2['Cluster'] = cluster"
      ]
    },
    {
      "cell_type": "code",
      "execution_count": null,
      "metadata": {
        "id": "E2SwZ6CTo4T8"
      },
      "outputs": [],
      "source": [
        "mod_col = mod_col.insert(1, 'Cluster')\n",
        "display(data_2[mod_col].groupby('Cluster').agg(['mean','median', 'max', 'min']))"
      ]
    },
    {
      "cell_type": "code",
      "execution_count": null,
      "metadata": {
        "id": "R-9B-WPpo4XL"
      },
      "outputs": [],
      "source": [
        "data_ac = data_2.groupby(['Cluster'])['age'].count().reset_index()\n",
        "data_ac.rename(columns = {'age' : 'Total Customer'}, inplace=True)\n",
        "data_ac['Percentage'] = np.round(data_ac['Total Customer'] / data_ac['Total Customer'].sum() * 100, 2)\n",
        "data_ac\n"
      ]
    },
    {
      "cell_type": "code",
      "execution_count": null,
      "metadata": {
        "id": "F3J9KIDcpJF1"
      },
      "outputs": [],
      "source": [
        "data_ac2 = data_2.groupby(['Cluster', 'Total_accepted_campaign'])['age'].count().reset_index()\n",
        "data_ac2.rename(columns = {'age' : 'Total Customer'}, inplace=True)\n",
        "data_ac2"
      ]
    },
    {
      "cell_type": "code",
      "execution_count": null,
      "metadata": {
        "id": "rzrpL-AzpJH2"
      },
      "outputs": [],
      "source": []
    },
    {
      "cell_type": "markdown",
      "metadata": {
        "id": "PBaZI2ZRpOaW"
      },
      "source": [
        "# **Potential Impact (Quantitative)**"
      ]
    },
    {
      "cell_type": "code",
      "execution_count": null,
      "metadata": {
        "id": "Y3VifBjHpJNB"
      },
      "outputs": [],
      "source": [
        "high_valued   = data_2[data_2['Cluster'] == 'High Value Customer']['Total_amount'].sum()\n",
        "medium_valued = data_2[data_2['Cluster'] == 'Medium Value Customer']['Total_amount'].sum()\n",
        "low_valued    = data_2[data_2['Cluster'] == 'Low Value Customer']['Total_amount'].sum()\n",
        "very_low_valued = data_2[data_2['Cluster'] == 'Very Low Value Customer']['Total_amount'].sum()\n",
        "total = high_valued + medium_valued + low_valued + very_low_valued\n",
        "\n",
        "print(f'Total Spent of High Value Customer : Rp. {high_valued}')\n",
        "print(f'Total Spent of Medium Value Customer : Rp. {medium_valued}')\n",
        "print(f'Total Spent of Low Value Customer : Rp. {low_valued}')\n",
        "print(f'Total Spent of Very Low Value Customer : Rp. {very_low_valued}')\n",
        "print(f'Total : Rp. {total}')"
      ]
    },
    {
      "cell_type": "code",
      "execution_count": null,
      "metadata": {
        "id": "hGF9sOJDiMMV"
      },
      "outputs": [],
      "source": []
    },
    {
      "cell_type": "code",
      "execution_count": null,
      "metadata": {
        "id": "Iols68jhiNww"
      },
      "outputs": [],
      "source": []
    },
    {
      "cell_type": "code",
      "execution_count": null,
      "metadata": {
        "id": "xPiyV6aliNyI"
      },
      "outputs": [],
      "source": []
    },
    {
      "cell_type": "code",
      "execution_count": null,
      "metadata": {
        "id": "fL8yMcXKiNz0"
      },
      "outputs": [],
      "source": []
    },
    {
      "cell_type": "code",
      "execution_count": null,
      "metadata": {
        "id": "P9YcWkiTiN0_"
      },
      "outputs": [],
      "source": []
    },
    {
      "cell_type": "code",
      "execution_count": null,
      "metadata": {
        "id": "Fq2E8_GOiXFp"
      },
      "outputs": [],
      "source": []
    },
    {
      "cell_type": "code",
      "execution_count": null,
      "metadata": {
        "id": "H6AlrtT4iXHk"
      },
      "outputs": [],
      "source": []
    },
    {
      "cell_type": "code",
      "execution_count": null,
      "metadata": {
        "id": "zYxUp8Z_iXMo"
      },
      "outputs": [],
      "source": []
    }
  ],
  "metadata": {
    "accelerator": "GPU",
    "colab": {
      "provenance": []
    },
    "kernelspec": {
      "display_name": "Python 3",
      "name": "python3"
    },
    "language_info": {
      "name": "python"
    }
  },
  "nbformat": 4,
  "nbformat_minor": 0
}
